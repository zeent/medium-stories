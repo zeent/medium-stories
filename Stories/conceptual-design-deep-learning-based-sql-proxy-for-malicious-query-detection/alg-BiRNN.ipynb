{
 "cells": [
  {
   "cell_type": "code",
   "execution_count": 1,
   "id": "0f451e1b",
   "metadata": {},
   "outputs": [
    {
     "name": "stdout",
     "output_type": "stream",
     "text": [
      "Epoch 1/5\n",
      "1000/1000 [==============================] - 8s 7ms/step - loss: 0.0968 - accuracy: 0.9660 - val_loss: 0.0359 - val_accuracy: 0.9920\n",
      "Epoch 2/5\n",
      "1000/1000 [==============================] - 7s 7ms/step - loss: 0.0249 - accuracy: 0.9937 - val_loss: 0.0270 - val_accuracy: 0.9915\n",
      "Epoch 3/5\n",
      "1000/1000 [==============================] - 7s 7ms/step - loss: 0.0171 - accuracy: 0.9957 - val_loss: 0.0222 - val_accuracy: 0.9935\n",
      "Epoch 4/5\n",
      "1000/1000 [==============================] - 7s 7ms/step - loss: 0.0130 - accuracy: 0.9967 - val_loss: 0.0247 - val_accuracy: 0.9939\n",
      "Epoch 5/5\n",
      "1000/1000 [==============================] - 7s 7ms/step - loss: 0.0127 - accuracy: 0.9972 - val_loss: 0.0186 - val_accuracy: 0.9944\n",
      "250/250 [==============================] - 1s 2ms/step - loss: 0.0186 - accuracy: 0.9944\n",
      "Loss: 0.01860421895980835, Accuracy: 0.9943749904632568\n"
     ]
    }
   ],
   "source": [
    "import pandas as pd\n",
    "from sklearn.model_selection import train_test_split\n",
    "from sklearn.preprocessing import LabelEncoder\n",
    "from tensorflow.keras.preprocessing.text import Tokenizer\n",
    "from tensorflow.keras.preprocessing.sequence import pad_sequences\n",
    "from tensorflow.keras.models import Sequential\n",
    "from tensorflow.keras.layers import Embedding, Bidirectional, LSTM, Dense\n",
    "\n",
    "# Carrega les dades des del fitxer CSV\n",
    "data = pd.read_csv('data/DS-2023-000/proxy-sql-dataset.csv', delimiter=\";\")\n",
    "\n",
    "# Convertim les etiquetes de text a números (0 o 1)\n",
    "label_encoder = LabelEncoder()\n",
    "data['malignant'] = label_encoder.fit_transform(data['malignant'])\n",
    "\n",
    "# Separem les dades en conjunts d'entrenament i prova\n",
    "X_train, X_test, y_train, y_test = train_test_split(data['query'], data['malignant'], test_size=0.2, random_state=42)\n",
    "\n",
    "# Tokenització i padding del text\n",
    "tokenizer = Tokenizer(num_words=5000, oov_token='<OOV>')\n",
    "tokenizer.fit_on_texts(X_train)\n",
    "\n",
    "X_train_sequences = tokenizer.texts_to_sequences(X_train)\n",
    "X_test_sequences = tokenizer.texts_to_sequences(X_test)\n",
    "\n",
    "X_train_padded = pad_sequences(X_train_sequences, maxlen=50, padding='post', truncating='post')\n",
    "X_test_padded = pad_sequences(X_test_sequences, maxlen=50, padding='post', truncating='post')\n",
    "\n",
    "# Construeix el model amb una capa Bidireccional LSTM\n",
    "model = Sequential([\n",
    "    Embedding(input_dim=5000, output_dim=16, input_length=50),\n",
    "    Bidirectional(LSTM(64)),\n",
    "    Dense(1, activation='sigmoid')\n",
    "])\n",
    "\n",
    "model.compile(optimizer='adam', loss='binary_crossentropy', metrics=['accuracy'])\n",
    "\n",
    "# Entrenament del model\n",
    "model.fit(X_train_padded, y_train, epochs=5, validation_data=(X_test_padded, y_test))\n",
    "\n",
    "# Avaluació del model\n",
    "loss, accuracy = model.evaluate(X_test_padded, y_test)\n",
    "print(f'Loss: {loss}, Accuracy: {accuracy}')\n"
   ]
  },
  {
   "cell_type": "code",
   "execution_count": null,
   "id": "0e93139e",
   "metadata": {},
   "outputs": [],
   "source": []
  }
 ],
 "metadata": {
  "kernelspec": {
   "display_name": "Python 3 (ipykernel)",
   "language": "python",
   "name": "python3"
  },
  "language_info": {
   "codemirror_mode": {
    "name": "ipython",
    "version": 3
   },
   "file_extension": ".py",
   "mimetype": "text/x-python",
   "name": "python",
   "nbconvert_exporter": "python",
   "pygments_lexer": "ipython3",
   "version": "3.9.10"
  }
 },
 "nbformat": 4,
 "nbformat_minor": 5
}
